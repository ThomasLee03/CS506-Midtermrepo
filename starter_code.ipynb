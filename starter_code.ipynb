{
 "cells": [
  {
   "cell_type": "markdown",
   "metadata": {},
   "source": [
    "# Libraries"
   ]
  },
  {
   "cell_type": "code",
   "execution_count": 41,
   "metadata": {},
   "outputs": [
    {
     "name": "stdout",
     "output_type": "stream",
     "text": [
      "Requirement already satisfied: xgboost in c:\\users\\thoma\\anaconda3\\lib\\site-packages (2.1.2)\n",
      "Requirement already satisfied: numpy in c:\\users\\thoma\\anaconda3\\lib\\site-packages (from xgboost) (1.26.4)\n",
      "Requirement already satisfied: scipy in c:\\users\\thoma\\anaconda3\\lib\\site-packages (from xgboost) (1.13.1)\n"
     ]
    }
   ],
   "source": [
    "!pip install xgboost"
   ]
  },
  {
   "cell_type": "code",
   "execution_count": 73,
   "metadata": {},
   "outputs": [
    {
     "name": "stdout",
     "output_type": "stream",
     "text": [
      "Collecting textblob\n",
      "  Downloading textblob-0.18.0.post0-py3-none-any.whl.metadata (4.5 kB)\n",
      "Requirement already satisfied: nltk>=3.8 in c:\\users\\thoma\\anaconda3\\lib\\site-packages (from textblob) (3.8.1)\n",
      "Requirement already satisfied: click in c:\\users\\thoma\\anaconda3\\lib\\site-packages (from nltk>=3.8->textblob) (8.1.7)\n",
      "Requirement already satisfied: joblib in c:\\users\\thoma\\anaconda3\\lib\\site-packages (from nltk>=3.8->textblob) (1.4.2)\n",
      "Requirement already satisfied: regex>=2021.8.3 in c:\\users\\thoma\\anaconda3\\lib\\site-packages (from nltk>=3.8->textblob) (2023.10.3)\n",
      "Requirement already satisfied: tqdm in c:\\users\\thoma\\anaconda3\\lib\\site-packages (from nltk>=3.8->textblob) (4.66.4)\n",
      "Requirement already satisfied: colorama in c:\\users\\thoma\\anaconda3\\lib\\site-packages (from click->nltk>=3.8->textblob) (0.4.6)\n",
      "Downloading textblob-0.18.0.post0-py3-none-any.whl (626 kB)\n",
      "   ---------------------------------------- 0.0/626.3 kB ? eta -:--:--\n",
      "    --------------------------------------- 10.2/626.3 kB ? eta -:--:--\n",
      "    --------------------------------------- 10.2/626.3 kB ? eta -:--:--\n",
      "   -- ------------------------------------ 41.0/626.3 kB 326.8 kB/s eta 0:00:02\n",
      "   -------- ----------------------------- 143.4/626.3 kB 944.1 kB/s eta 0:00:01\n",
      "   ------------------- -------------------- 307.2/626.3 kB 1.6 MB/s eta 0:00:01\n",
      "   ---------------------------- ----------- 440.3/626.3 kB 1.8 MB/s eta 0:00:01\n",
      "   -------------------------------- ------- 501.8/626.3 kB 1.8 MB/s eta 0:00:01\n",
      "   ---------------------------------------- 626.3/626.3 kB 2.0 MB/s eta 0:00:00\n",
      "Installing collected packages: textblob\n",
      "Successfully installed textblob-0.18.0.post0\n"
     ]
    }
   ],
   "source": [
    "!pip install textblob"
   ]
  },
  {
   "cell_type": "code",
   "execution_count": 1,
   "metadata": {},
   "outputs": [
    {
     "name": "stdout",
     "output_type": "stream",
     "text": [
      "Collecting swifter\n",
      "  Downloading swifter-1.4.0.tar.gz (1.2 MB)\n",
      "     ---------------------------------------- 0.0/1.2 MB ? eta -:--:--\n",
      "     ---------------------------------------- 0.0/1.2 MB ? eta -:--:--\n",
      "      --------------------------------------- 0.0/1.2 MB 330.3 kB/s eta 0:00:04\n",
      "     - -------------------------------------- 0.0/1.2 MB 330.3 kB/s eta 0:00:04\n",
      "     -- ------------------------------------- 0.1/1.2 MB 363.1 kB/s eta 0:00:04\n",
      "     ------- -------------------------------- 0.2/1.2 MB 1.0 MB/s eta 0:00:01\n",
      "     ------------ --------------------------- 0.4/1.2 MB 1.6 MB/s eta 0:00:01\n",
      "     -------------------------------- ------- 1.0/1.2 MB 3.4 MB/s eta 0:00:01\n",
      "     ---------------------------------------- 1.2/1.2 MB 3.8 MB/s eta 0:00:00\n",
      "  Preparing metadata (setup.py): started\n",
      "  Preparing metadata (setup.py): finished with status 'done'\n",
      "Requirement already satisfied: pandas>=1.0.0 in c:\\users\\thoma\\anaconda3\\lib\\site-packages (from swifter) (2.2.2)\n",
      "Requirement already satisfied: psutil>=5.6.6 in c:\\users\\thoma\\anaconda3\\lib\\site-packages (from swifter) (5.9.0)\n",
      "Requirement already satisfied: dask>=2.10.0 in c:\\users\\thoma\\anaconda3\\lib\\site-packages (from dask[dataframe]>=2.10.0->swifter) (2024.5.0)\n",
      "Requirement already satisfied: tqdm>=4.33.0 in c:\\users\\thoma\\anaconda3\\lib\\site-packages (from swifter) (4.66.4)\n",
      "Requirement already satisfied: click>=8.1 in c:\\users\\thoma\\anaconda3\\lib\\site-packages (from dask>=2.10.0->dask[dataframe]>=2.10.0->swifter) (8.1.7)\n",
      "Requirement already satisfied: cloudpickle>=1.5.0 in c:\\users\\thoma\\anaconda3\\lib\\site-packages (from dask>=2.10.0->dask[dataframe]>=2.10.0->swifter) (2.2.1)\n",
      "Requirement already satisfied: fsspec>=2021.09.0 in c:\\users\\thoma\\anaconda3\\lib\\site-packages (from dask>=2.10.0->dask[dataframe]>=2.10.0->swifter) (2024.3.1)\n",
      "Requirement already satisfied: packaging>=20.0 in c:\\users\\thoma\\anaconda3\\lib\\site-packages (from dask>=2.10.0->dask[dataframe]>=2.10.0->swifter) (23.2)\n",
      "Requirement already satisfied: partd>=1.2.0 in c:\\users\\thoma\\anaconda3\\lib\\site-packages (from dask>=2.10.0->dask[dataframe]>=2.10.0->swifter) (1.4.1)\n",
      "Requirement already satisfied: pyyaml>=5.3.1 in c:\\users\\thoma\\anaconda3\\lib\\site-packages (from dask>=2.10.0->dask[dataframe]>=2.10.0->swifter) (6.0.1)\n",
      "Requirement already satisfied: toolz>=0.10.0 in c:\\users\\thoma\\anaconda3\\lib\\site-packages (from dask>=2.10.0->dask[dataframe]>=2.10.0->swifter) (0.12.0)\n",
      "Requirement already satisfied: dask-expr<1.2,>=1.1 in c:\\users\\thoma\\anaconda3\\lib\\site-packages (from dask[dataframe]>=2.10.0->swifter) (1.1.0)\n",
      "Requirement already satisfied: numpy>=1.26.0 in c:\\users\\thoma\\anaconda3\\lib\\site-packages (from pandas>=1.0.0->swifter) (1.26.4)\n",
      "Requirement already satisfied: python-dateutil>=2.8.2 in c:\\users\\thoma\\anaconda3\\lib\\site-packages (from pandas>=1.0.0->swifter) (2.9.0.post0)\n",
      "Requirement already satisfied: pytz>=2020.1 in c:\\users\\thoma\\anaconda3\\lib\\site-packages (from pandas>=1.0.0->swifter) (2024.1)\n",
      "Requirement already satisfied: tzdata>=2022.7 in c:\\users\\thoma\\anaconda3\\lib\\site-packages (from pandas>=1.0.0->swifter) (2023.3)\n",
      "Requirement already satisfied: colorama in c:\\users\\thoma\\anaconda3\\lib\\site-packages (from tqdm>=4.33.0->swifter) (0.4.6)\n",
      "Requirement already satisfied: pyarrow>=7.0.0 in c:\\users\\thoma\\anaconda3\\lib\\site-packages (from dask-expr<1.2,>=1.1->dask[dataframe]>=2.10.0->swifter) (14.0.2)\n",
      "Requirement already satisfied: locket in c:\\users\\thoma\\anaconda3\\lib\\site-packages (from partd>=1.2.0->dask>=2.10.0->dask[dataframe]>=2.10.0->swifter) (1.0.0)\n",
      "Requirement already satisfied: six>=1.5 in c:\\users\\thoma\\anaconda3\\lib\\site-packages (from python-dateutil>=2.8.2->pandas>=1.0.0->swifter) (1.16.0)\n",
      "Building wheels for collected packages: swifter\n",
      "  Building wheel for swifter (setup.py): started\n",
      "  Building wheel for swifter (setup.py): finished with status 'done'\n",
      "  Created wheel for swifter: filename=swifter-1.4.0-py3-none-any.whl size=16514 sha256=b49fca8466112a33a98f01bf56964816929b8f2c528d61c120ef8131ad9a4cb9\n",
      "  Stored in directory: c:\\users\\thoma\\appdata\\local\\pip\\cache\\wheels\\d9\\31\\ff\\ff51141a088571a9f672449e5aad5ea8bb35ca5d95ba135f30\n",
      "Successfully built swifter\n",
      "Installing collected packages: swifter\n",
      "Successfully installed swifter-1.4.0\n"
     ]
    }
   ],
   "source": [
    "!pip install swifter"
   ]
  },
  {
   "cell_type": "code",
   "execution_count": 4,
   "metadata": {},
   "outputs": [],
   "source": [
    "import pickle\n",
    "import pandas as pd\n",
    "import numpy as np\n",
    "import datetime\n",
    "from sklearn.model_selection import train_test_split, RandomizedSearchCV, StratifiedKFold, cross_val_score\n",
    "from sklearn.ensemble import RandomForestClassifier, GradientBoostingClassifier, StackingClassifier, ExtraTreesClassifier\n",
    "from sklearn.linear_model import LogisticRegression\n",
    "from sklearn.feature_extraction.text import TfidfVectorizer\n",
    "from sklearn.decomposition import TruncatedSVD\n",
    "from sklearn.preprocessing import StandardScaler\n",
    "from xgboost import XGBClassifier\n",
    "from scipy.stats import randint, uniform\n",
    "from sklearn.metrics import accuracy_score, confusion_matrix\n",
    "import seaborn as sns\n",
    "import os\n",
    "import matplotlib.pyplot as plt\n",
    "import swifter  # Install swifter with `pip install swifter` if not alreadyfrom sklearn.utils import resample\n",
    "from os.path import exists\n",
    "from sklearn.utils import resample\n",
    "from sklearn.svm import SVC\n",
    "from sklearn.linear_model import RidgeClassifier  # Import RidgeClassifier as a faster alternative\n",
    "from sklearn.model_selection import GridSearchCV, RandomizedSearchCV"
   ]
  },
  {
   "cell_type": "markdown",
   "metadata": {},
   "source": [
    "# Loading the Files\n",
    "\n",
    "Download the csv files into the `data/` directory."
   ]
  },
  {
   "cell_type": "code",
   "execution_count": 5,
   "metadata": {},
   "outputs": [
    {
     "name": "stdout",
     "output_type": "stream",
     "text": [
      "train.csv shape is  (1697533, 9)\n",
      "test.csv shape is  (212192, 2)\n",
      "\n",
      "        Id   ProductId          UserId  HelpfulnessNumerator  \\\n",
      "0   914403  B0009W5KHM   AV6QDP8Q0ONK4                     2   \n",
      "1   354887  6303079709  A2I8RXJN80A2D2                     0   \n",
      "2  1407653  B004H0M2XC  A3FHV3RV8Z12E6                     0   \n",
      "3  1377458  B003ZJ9536  A12VLTA3ZHVPUY                     1   \n",
      "4   475323  630574453X  A13NM1PES9OXVN                     2   \n",
      "\n",
      "   HelpfulnessDenominator        Time  \\\n",
      "0                       2  1341014400   \n",
      "1                       0  1168819200   \n",
      "2                       0  1386201600   \n",
      "3                       1  1348704000   \n",
      "4                       3   970012800   \n",
      "\n",
      "                                         Summary  \\\n",
      "0                                  GOOD FUN FILM   \n",
      "1                                   Movie Review   \n",
      "2             When is it a good time to Consent?   \n",
      "3                                          TRUTH   \n",
      "4  Intelligent and bittersweet -- stays with you   \n",
      "\n",
      "                                                Text  Score  \n",
      "0  While most straight to DVD films are not worth...    5.0  \n",
      "1  I have wanted this one for sometime, also.  I ...    5.0  \n",
      "2  Actually this was a pretty darn good indie fil...    4.0  \n",
      "3  Episodes 37 to 72 of the series press on in a ...    5.0  \n",
      "4  I was really impressed with this movie, but wa...    3.0  \n",
      "\n",
      "        Id  Score\n",
      "0  1323432    NaN\n",
      "1  1137299    NaN\n",
      "2  1459366    NaN\n",
      "3   931601    NaN\n",
      "4  1311995    NaN\n",
      "\n",
      "                 Id  HelpfulnessNumerator  HelpfulnessDenominator  \\\n",
      "count  1.697533e+06          1.697533e+06            1.697533e+06   \n",
      "mean   8.487660e+05          3.569048e+00            5.301422e+00   \n",
      "std    4.900357e+05          1.727883e+01            2.024445e+01   \n",
      "min    0.000000e+00          0.000000e+00            0.000000e+00   \n",
      "25%    4.243830e+05          0.000000e+00            0.000000e+00   \n",
      "50%    8.487660e+05          1.000000e+00            1.000000e+00   \n",
      "75%    1.273149e+06          3.000000e+00            5.000000e+00   \n",
      "max    1.697532e+06          6.084000e+03            6.510000e+03   \n",
      "\n",
      "               Time         Score  \n",
      "count  1.697533e+06  1.485341e+06  \n",
      "mean   1.262422e+09  4.110517e+00  \n",
      "std    1.289277e+08  1.197651e+00  \n",
      "min    8.793792e+08  1.000000e+00  \n",
      "25%    1.164413e+09  4.000000e+00  \n",
      "50%    1.307491e+09  5.000000e+00  \n",
      "75%    1.373242e+09  5.000000e+00  \n",
      "max    1.406074e+09  5.000000e+00  \n"
     ]
    },
    {
     "data": {
      "image/png": "[encoded data removed]",
      "text/plain": [
       "<Figure size 640x480 with 1 Axes>"
      ]
     },
     "metadata": {},
     "output_type": "display_data"
    },
    {
     "name": "stdout",
     "output_type": "stream",
     "text": [
      "\n",
      "EVERYTHING IS PROPERLY SET UP! YOU ARE READY TO START\n"
     ]
    }
   ],
   "source": [
    "trainingSet = pd.read_csv(\"./data/train.csv\")\n",
    "testingSet = pd.read_csv(\"./data/test.csv\")\n",
    "\n",
    "print(\"train.csv shape is \", trainingSet.shape)\n",
    "print(\"test.csv shape is \", testingSet.shape)\n",
    "\n",
    "print()\n",
    "\n",
    "print(trainingSet.head())\n",
    "print()\n",
    "print(testingSet.head())\n",
    "\n",
    "print()\n",
    "\n",
    "print(trainingSet.describe())\n",
    "\n",
    "trainingSet['Score'].value_counts().plot(kind='bar', legend=True, alpha=.5)\n",
    "plt.show()\n",
    "\n",
    "print()\n",
    "print(\"EVERYTHING IS PROPERLY SET UP! YOU ARE READY TO START\")"
   ]
  },
  {
   "cell_type": "markdown",
   "metadata": {},
   "source": [
    "# Adding Features"
   ]
  },
  {
   "cell_type": "code",
   "execution_count": 23,
   "metadata": {},
   "outputs": [
    {
     "data": {
      "application/vnd.jupyter.widget-view+json": {
       "model_id": "237e890fe90245519b92527d39c92392",
       "version_major": 2,
       "version_minor": 0
      },
      "text/plain": [
       "Pandas Apply:   0%|          | 0/50000 [00:00<?, ?it/s]"
      ]
     },
     "metadata": {},
     "output_type": "display_data"
    },
    {
     "data": {
      "application/vnd.jupyter.widget-view+json": {
       "model_id": "911bc7c562024bb1b8d92613ebdda178",
       "version_major": 2,
       "version_minor": 0
      },
      "text/plain": [
       "Pandas Apply:   0%|          | 0/50000 [00:00<?, ?it/s]"
      ]
     },
     "metadata": {},
     "output_type": "display_data"
    },
    {
     "data": {
      "application/vnd.jupyter.widget-view+json": {
       "model_id": "d70d41fb11cc44b78af6635da9122abf",
       "version_major": 2,
       "version_minor": 0
      },
      "text/plain": [
       "Pandas Apply:   0%|          | 0/212192 [00:00<?, ?it/s]"
      ]
     },
     "metadata": {},
     "output_type": "display_data"
    },
    {
     "data": {
      "application/vnd.jupyter.widget-view+json": {
       "model_id": "6337cf6cfb5b4d15949473916fbfd9cd",
       "version_major": 2,
       "version_minor": 0
      },
      "text/plain": [
       "Pandas Apply:   0%|          | 0/212192 [00:00<?, ?it/s]"
      ]
     },
     "metadata": {},
     "output_type": "display_data"
    }
   ],
   "source": [
    "# Optimized feature extraction function for reduced runtime\n",
    "def add_features_to(df):\n",
    "\n",
    "    # Helpfulness calculation\n",
    "    helpfulness_numerator = df.get('HelpfulnessNumerator', 0)\n",
    "    helpfulness_denominator = df.get('HelpfulnessDenominator', 1)\n",
    "    df['Helpfulness'] = helpfulness_numerator / helpfulness_denominator\n",
    "    df['Helpfulness'] = df['Helpfulness'].fillna(0)\n",
    "\n",
    "    # Review age feature\n",
    "    if 'Time' in df.columns:\n",
    "        df['Time'] = pd.to_datetime(df['Time'], unit='s')\n",
    "        current_time = datetime.datetime.now()\n",
    "        df['ReviewAge'] = (current_time - df['Time']).dt.days\n",
    "\n",
    "    # Check if 'Text' column exists before processing text-based features\n",
    "    if 'Text' in df.columns:\n",
    "        df['Text'] = df['Text'].fillna(\"\")\n",
    "        \n",
    "        # Reduced TF-IDF\n",
    "        tfidf = TfidfVectorizer(max_features=3000, ngram_range=(1, 1), stop_words='english')\n",
    "        svd = TruncatedSVD(n_components=100, random_state=0)\n",
    "        tfidf_matrix = tfidf.fit_transform(df['Text'])\n",
    "        tfidf_reduced = svd.fit_transform(tfidf_matrix)\n",
    "\n",
    "        # Add the SVD components as columns\n",
    "        tfidf_components = pd.DataFrame(tfidf_reduced, columns=[f'text_component_{i}' for i in range(100)])\n",
    "        df = pd.concat([df, tfidf_components], axis=1)\n",
    "\n",
    "        # Polarity keyword counts (quick sentiment proxy)\n",
    "        positive_words = ['good', 'great', 'excellent', 'amazing', 'love', 'positive']\n",
    "        negative_words = ['bad', 'poor', 'terrible', 'hate', 'negative']\n",
    "        df['PositiveCount'] = df['Text'].apply(lambda x: sum(1 for word in x.split() if word.lower() in positive_words))\n",
    "        df['NegativeCount'] = df['Text'].apply(lambda x: sum(1 for word in x.split() if word.lower() in negative_words))\n",
    "        df['PolarityRatio'] = (df['PositiveCount'] + 1) / (df['NegativeCount'] + 1)\n",
    "\n",
    "        # Simple text length feature\n",
    "        df['ReviewLength'] = df['Text'].apply(len)\n",
    "    \n",
    "    return df\n",
    "\n",
    "# Load pre-extracted files if available\n",
    "if exists('./data/X_train.csv'):\n",
    "    X_train = pd.read_csv(\"./data/X_train.csv\")\n",
    "if exists('./data/X_submission.csv'):\n",
    "    X_submission = pd.read_csv(\"./data/X_submission.csv\")\n",
    "else:\n",
    "    # Process the DataFrame and generate features\n",
    "    train = add_features_to(trainingSet)\n",
    "    \n",
    "    # Merge train features with original 'trainingSet' to retrieve the 'Score' column\n",
    "    X_submission = pd.merge(train, testingSet, left_on='Id', right_on='Id')\n",
    "    print(train.columns)\n",
    "    print(testingSet.columns)\n",
    "    print(X_submission.columns)\n",
    "    \n",
    "    X_submission = X_submission.drop(columns=['Score_x'])\n",
    "    X_submission = X_submission.rename(columns={'Score_y': 'Score'})\n",
    "    \n",
    "    X_train2 =  train[train['Score'].notnull()]\n",
    "\n",
    "    # Save the processed data\n",
    "    X_submission.to_csv(\"./data/X_submission.csv\", index=False)\n",
    "    X_train.to_csv(\"./data/X_train.csv\", index=False)"
   ]
  },
  {
   "cell_type": "code",
   "execution_count": 423,
   "metadata": {},
   "outputs": [],
   "source": [
    "# Sample + Split into training and testing set"
   ]
  },
  {
   "cell_type": "code",
   "execution_count": 25,
   "metadata": {},
   "outputs": [],
   "source": [
    "# Target a very small downsampled dataset of 5,000 rows\n",
    "desired_sample_size = 5000  # Small enough for quick runtime\n",
    "\n",
    "# Separate majority and minority classes\n",
    "score_5 = X_train2[X_train2['Score'] == 5]\n",
    "other_scores = X_train2[X_train2['Score'] != 5]\n",
    "\n",
    "# Downsample score 5 proportionally to the target sample size\n",
    "score_5_downsampled = resample(score_5, \n",
    "                               replace=False,  # No replacement\n",
    "                               n_samples=int(desired_sample_size * 0.5),  # 50% of sample size\n",
    "                               random_state=0)\n",
    "\n",
    "# Downsample other scores to collectively make up the remaining 50%\n",
    "other_scores_downsampled = resample(other_scores, \n",
    "                                    replace=False,\n",
    "                                    n_samples=int(desired_sample_size * 0.5),\n",
    "                                    random_state=0)\n",
    "\n",
    "# Combine to create a balanced subset of data\n",
    "balanced_data = pd.concat([score_5_downsampled, other_scores_downsampled]).dropna(subset=['Score'])\n",
    "\n",
    "# Separate features and target (Score) before feature extraction\n",
    "y = (balanced_data['Score'] - 1).astype(int)  # Convert target variable to integer\n",
    "balanced_data = balanced_data.drop(columns=['Score'])  # Drop 'Score' column for feature extraction\n",
    "\n",
    "#THIS IS FOR SUBMISSION 2\n",
    "#y = balanced_data['Score']  # Target variable\n",
    "#balanced_data = balanced_data.drop(columns=['Score'])  # Drop 'Score' column for feature extraction\n",
    "\n",
    "# Apply the feature extraction function to `balanced_data`\n",
    "X = balanced_data\n",
    "\n",
    "# Train-test split with stratification to maintain balanced classes\n",
    "X_train, X_test, Y_train, Y_test = train_test_split(\n",
    "    X,\n",
    "    y,\n",
    "    test_size=0.25,  # 75% training and 25% testing\n",
    "    random_state=0,\n",
    "    stratify=y\n",
    ")"
   ]
  },
  {
   "cell_type": "markdown",
   "metadata": {},
   "source": [
    "# Feature Selection"
   ]
  },
  {
   "cell_type": "code",
   "execution_count": 2,
   "metadata": {},
   "outputs": [
    {
     "ename": "NameError",
     "evalue": "name 'X_train' is not defined",
     "output_type": "error",
     "traceback": [
      "\u001b[1;31m---------------------------------------------------------------------------\u001b[0m",
      "\u001b[1;31mNameError\u001b[0m                                 Traceback (most recent call last)",
      "Cell \u001b[1;32mIn[2], line 23\u001b[0m\n\u001b[0;32m     10\u001b[0m \u001b[38;5;66;03m#features = ['Helpfulness', 'ReviewAge', 'Polarity', 'Subjectivity', 'PolarityRatio', 'ReviewLength'] + \\\u001b[39;00m\n\u001b[0;32m     11\u001b[0m \u001b[38;5;66;03m#           [f'text_component_{i}' for i in range(100)]\u001b[39;00m\n\u001b[0;32m     12\u001b[0m \u001b[38;5;66;03m#Solution 2 and 3\u001b[39;00m\n\u001b[0;32m     13\u001b[0m \u001b[38;5;66;03m# Selected features\u001b[39;00m\n\u001b[0;32m     14\u001b[0m \u001b[38;5;66;03m#features = ['Helpfulness', 'ReviewAge', 'PolarityRatio', 'ReviewLength'] + [f'text_component_{i}' for i in range(100)]\u001b[39;00m\n\u001b[0;32m     15\u001b[0m features \u001b[38;5;241m=\u001b[39m [\n\u001b[0;32m     16\u001b[0m     \u001b[38;5;124m'\u001b[39m\u001b[38;5;124mHelpfulness\u001b[39m\u001b[38;5;124m'\u001b[39m,            \u001b[38;5;66;03m# Calculated Helpfulness score\u001b[39;00m\n\u001b[0;32m     17\u001b[0m     \u001b[38;5;124m'\u001b[39m\u001b[38;5;124mReviewAge\u001b[39m\u001b[38;5;124m'\u001b[39m,              \u001b[38;5;66;03m# Days since the review was posted\u001b[39;00m\n\u001b[1;32m   (...)\u001b[0m\n\u001b[0;32m     21\u001b[0m     \u001b[38;5;124m'\u001b[39m\u001b[38;5;124mReviewLength\u001b[39m\u001b[38;5;124m'\u001b[39m            \u001b[38;5;66;03m# Length of the review text\u001b[39;00m\n\u001b[0;32m     22\u001b[0m ] \u001b[38;5;241m+\u001b[39m [\u001b[38;5;124mf\u001b[39m\u001b[38;5;124m'\u001b[39m\u001b[38;5;124mtext_component_\u001b[39m\u001b[38;5;132;01m{\u001b[39;00mi\u001b[38;5;132;01m}\u001b[39;00m\u001b[38;5;124m'\u001b[39m \u001b[38;5;28;01mfor\u001b[39;00m i \u001b[38;5;129;01min\u001b[39;00m \u001b[38;5;28mrange\u001b[39m(\u001b[38;5;241m100\u001b[39m)]  \u001b[38;5;66;03m# SVD-reduced TF-IDF components\u001b[39;00m\n\u001b[1;32m---> 23\u001b[0m X_train_select \u001b[38;5;241m=\u001b[39m X_train[features]\n\u001b[0;32m     24\u001b[0m X_test_select \u001b[38;5;241m=\u001b[39m X_test[features]\n\u001b[0;32m     25\u001b[0m X_submission_select \u001b[38;5;241m=\u001b[39m X_submission[features]\n",
      "\u001b[1;31mNameError\u001b[0m: name 'X_train' is not defined"
     ]
    }
   ],
   "source": [
    "# Check available columns after feature extraction\n",
    "#features = ['HelpfulnessNumerator', 'HelpfulnessDenominator', 'Time', 'Helpfulness']\n",
    "#solutions 2 3 and 4\n",
    "#features = [\n",
    "#    'Helpfulness', 'HelpfulnessNumerator', 'HelpfulnessDenominator', 'ReviewAge',\n",
    "#    'PositiveCount', 'NegativeCount', 'PolarityRatio', 'ReviewLength'\n",
    "#] + [f'text_component_{i}' for i in range(100)]\n",
    "\n",
    "\n",
    "#features = ['Helpfulness', 'ReviewAge', 'Polarity', 'Subjectivity', 'PolarityRatio', 'ReviewLength'] + \\\n",
    "#           [f'text_component_{i}' for i in range(100)]\n",
    "#Solution 2 and 3\n",
    "# Selected features\n",
    "features = ['Helpfulness', 'ReviewAge', 'PositiveCount', 'NegativeCount', 'PolarityRatio', 'ReviewLength'] + [f'text_component_{i}' for i in range(100)]\n",
    "\n",
    "X_train_select = X_train[features]\n",
    "X_test_select = X_test[features]\n",
    "X_submission_select = X_submission[features]\n"
   ]
  },
  {
   "cell_type": "markdown",
   "metadata": {},
   "source": [
    "# Model Creation"
   ]
  },
  {
   "cell_type": "code",
   "execution_count": null,
   "metadata": {},
   "outputs": [
    {
     "name": "stdout",
     "output_type": "stream",
     "text": [
      "Best parameters for XGBClassifier: {'learning_rate': 0.09089844418701698, 'max_depth': 4, 'n_estimators': 138}\n",
      "Best parameters for RandomForestClassifier: {'max_depth': 10, 'max_features': 'sqrt', 'n_estimators': 150}\n",
      "Best parameters for SVC: {'C': 1.435482199008357, 'gamma': 'scale'}\n",
      "Best parameters for GradientBoostingClassifier: {'learning_rate': 0.1, 'max_depth': 4, 'n_estimators': 150}\n"
     ]
    }
   ],
   "source": [
    "# Define parameter grids for RandomizedSearchCV\n",
    "param_grids = {\n",
    "    'xgb': {\n",
    "        'n_estimators': randint(100, 300),\n",
    "        'max_depth': randint(3, 10),\n",
    "        'learning_rate': uniform(0.01, 0.2),\n",
    "    },\n",
    "    'rf': {\n",
    "        'n_estimators': randint(100, 300),\n",
    "        'max_depth': randint(5, 15),\n",
    "        'max_features': ['sqrt', 'log2'],  # Updated to only include 'sqrt' and 'log2'\n",
    "    },\n",
    "    'svc': {\n",
    "        'C': uniform(0.5, 2),\n",
    "        'gamma': ['scale', 'auto'],\n",
    "    },\n",
    "    'gbc': {\n",
    "        'n_estimators': randint(100, 250),\n",
    "        'learning_rate': uniform(0.01, 0.2),\n",
    "        'max_depth': randint(3, 7),\n",
    "    }\n",
    "}\n",
    "\n",
    "\n",
    "# Scale the features\n",
    "scaler = StandardScaler()\n",
    "X_train_scaled = scaler.fit_transform(X_train_select)\n",
    "X_test_scaled = scaler.transform(X_test_select)\n",
    "X_submission_scaled = scaler.transform(X_submission_select)\n",
    "\n",
    "# Filenames for saving the scaler and ensemble model\n",
    "scaler_filename = \"./models/scaler.pkl\"\n",
    "ensemble_model_filename = \"./models/stacked_ensemble_model.pkl\"  # Update here\n",
    "\n",
    "# Check if scaler and model already exist to load them\n",
    "if exists(scaler_filename) and exists(ensemble_model_filename):\n",
    "    # Load the scaler and ensemble model\n",
    "    with open(scaler_filename, 'rb') as scaler_file:\n",
    "        scaler = pickle.load(scaler_file)\n",
    "    with open(ensemble_model_filename, 'rb') as model_file:\n",
    "        stacked_ensemble = pickle.load(model_file)  # Updated to load into stacked_ensemble\n",
    "    print(\"Loaded existing scaler and ensemble model.\")\n",
    "else:\n",
    "    # Define individual models with updated parameters\n",
    "    xgb = XGBClassifier(random_state=0)\n",
    "    rf = RandomForestClassifier(random_state=0)\n",
    "    svc = SVC(probability=True, random_state=0)\n",
    "    gbc = GradientBoostingClassifier(random_state=0)\n",
    "\n",
    "    def tune_model(model, param_grid):\n",
    "        random_search = RandomizedSearchCV(model, param_grid, n_iter=20, cv=3, random_state=0, n_jobs=-1)\n",
    "        random_search.fit(X_train_scaled, Y_train)\n",
    "        print(f\"Best parameters for {model.__class__.__name__}: {random_search.best_params_}\")\n",
    "        return random_search.best_estimator_\n",
    "\n",
    "    xgb = tune_model(xgb, param_grids['xgb'])\n",
    "    rf = tune_model(rf, param_grids['rf'])\n",
    "    svc = tune_model(svc, param_grids['svc'])\n",
    "    gbc = tune_model(gbc, param_grids['gbc'])\n",
    "\n",
    "    # Expanded ensemble with SVC and Gradient Boosting\n",
    "    stacked_ensemble = StackingClassifier(\n",
    "        estimators=[('xgb', xgb), ('rf', rf), ('svc', svc), ('gbc', gbc)],\n",
    "        final_estimator=LogisticRegression(random_state=0)\n",
    "    )\n",
    "\n",
    "    # Train the stacked ensemble with cross-validation\n",
    "    cv = StratifiedKFold(n_splits=5, shuffle=True, random_state=0)\n",
    "    cv_scores = cross_val_score(stacked_ensemble, X_train_scaled, Y_train, cv=cv, scoring='accuracy')\n",
    "    print(f\"Cross-Validation Accuracy Scores: {cv_scores}\")\n",
    "    print(f\"Mean CV Accuracy: {cv_scores.mean()}\")\n",
    "\n",
    "    # Train the ensemble model\n",
    "    stacked_ensemble.fit(X_train_scaled, Y_train)\n",
    "    \n",
    "    # Ensure the models directory exists\n",
    "    os.makedirs('./models', exist_ok=True)\n",
    "\n",
    "    with open(ensemble_model_filename, 'wb') as model_file:\n",
    "        pickle.dump(stacked_ensemble, model_file)\n",
    "\n",
    "# Predict and evaluate on the test set\n",
    "Y_test_predictions = stacked_ensemble.predict(X_test_scaled)\n",
    "print(\"Stacked Ensemble Model Accuracy on Testing Set:\", accuracy_score(Y_test, Y_test_predictions))\n"
   ]
  },
  {
   "cell_type": "markdown",
   "metadata": {},
   "source": [
    "# Model Evaluation"
   ]
  },
  {
   "cell_type": "code",
   "execution_count": 449,
   "metadata": {},
   "outputs": [
    {
     "name": "stdout",
     "output_type": "stream",
     "text": [
      "Accuracy on testing set =  0.4596\n"
     ]
    },
    {
     "data": {
      "image/png": "[encoded data removed]",
      "text/plain": [
       "<Figure size 640x480 with 2 Axes>"
      ]
     },
     "metadata": {},
     "output_type": "display_data"
    }
   ],
   "source": [
    "# Evaluate your model on the testing set\n",
    "print(\"Accuracy on testing set = \", accuracy_score(Y_test, Y_test_predictions))\n",
    "\n",
    "# Plot a confusion matrix\n",
    "cm = confusion_matrix(Y_test, Y_test_predictions, normalize='true')\n",
    "sns.heatmap(cm, annot=True)\n",
    "plt.title('Confusion matrix of the classifier')\n",
    "plt.xlabel('Predicted')\n",
    "plt.ylabel('True')\n",
    "plt.show()"
   ]
  },
  {
   "cell_type": "markdown",
   "metadata": {},
   "source": [
    "# Create submission file"
   ]
  },
  {
   "cell_type": "code",
   "execution_count": null,
   "metadata": {},
   "outputs": [],
   "source": [
    "# Create the submission file\n",
    "\n",
    "X_submission['Score'] = stacked_ensemble.predict(X_submission_scaled)\n",
    "submission = X_submission[['Id', 'Score']]\n",
    "submission.to_csv(\"./data/submission.csv\", index=False)"
   ]
  }
 ],
 "metadata": {
  "kernelspec": {
   "display_name": "Python 3 (ipykernel)",
   "language": "python",
   "name": "python3"
  },
  "language_info": {
   "codemirror_mode": {
    "name": "ipython",
    "version": 3
   },
   "file_extension": ".py",
   "mimetype": "text/x-python",
   "name": "python",
   "nbconvert_exporter": "python",
   "pygments_lexer": "ipython3",
   "version": "3.12.4"
  }
 },
 "nbformat": 4,
 "nbformat_minor": 4
}
